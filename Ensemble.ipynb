{
  "nbformat": 4,
  "nbformat_minor": 0,
  "metadata": {
    "colab": {
      "name": "Ensemble.ipynb",
      "provenance": [],
      "toc_visible": true,
      "authorship_tag": "ABX9TyPyzZOnB9oXEsXOoVKfFNOd",
      "include_colab_link": true
    },
    "kernelspec": {
      "name": "python3",
      "display_name": "Python 3"
    },
    "language_info": {
      "name": "python"
    }
  },
  "cells": [
    {
      "cell_type": "markdown",
      "metadata": {
        "id": "view-in-github",
        "colab_type": "text"
      },
      "source": [
        "<a href=\"https://colab.research.google.com/github/river6907/Data-Mining/blob/main/Ensemble.ipynb\" target=\"_parent\"><img src=\"https://colab.research.google.com/assets/colab-badge.svg\" alt=\"Open In Colab\"/></a>"
      ]
    },
    {
      "cell_type": "code",
      "execution_count": 1,
      "metadata": {
        "id": "3y0uqGep9aMm"
      },
      "outputs": [],
      "source": [
        "import numpy as np\n",
        "import pandas as pd\n",
        "import matplotlib.pyplot as plt"
      ]
    },
    {
      "cell_type": "code",
      "source": [
        "from sklearn.datasets import load_iris, load_wine, load_breast_cancer\n",
        "from sklearn.preprocessing import StandardScaler\n",
        "from sklearn.pipeline import make_pipeline\n",
        "from sklearn.model_selection import train_test_split, cross_validate\n",
        "from sklearn.metrics import accuracy_score, precision_score, recall_score"
      ],
      "metadata": {
        "id": "3xuE1vy2EFlW"
      },
      "execution_count": 2,
      "outputs": []
    },
    {
      "cell_type": "code",
      "source": [
        "from sklearn.ensemble import BaggingClassifier\n",
        "from sklearn.neighbors import KNeighborsClassifier\n",
        "from sklearn.svm import SVC\n",
        "from sklearn.tree import DecisionTreeClassifier"
      ],
      "metadata": {
        "id": "I_LibrdXEG8t"
      },
      "execution_count": 3,
      "outputs": []
    },
    {
      "cell_type": "code",
      "source": [
        "cancer = load_breast_cancer()\n",
        "iris = load_iris()\n",
        "wine = load_wine()"
      ],
      "metadata": {
        "id": "tXvuSwm0EIc8"
      },
      "execution_count": 4,
      "outputs": []
    },
    {
      "cell_type": "markdown",
      "source": [
        "# Bagging 을 사용한 분류\n",
        "* bagging은 bootstrap aggregating의 줄임말\n",
        "* 원래 훈련 데이터셋의 일부를 사용해 여러 모델을 훈련\n",
        "* 각각의 결과를 결합해 최종 결과를 생성\n",
        "* 분산을 줄이고 과적합을 막음\n",
        "* 강력하고 복잡한 모델에서 잘 동작\n"
      ],
      "metadata": {
        "id": "56arlYcTEJvk"
      }
    },
    {
      "cell_type": "markdown",
      "source": [
        "# KNN\n"
      ],
      "metadata": {
        "id": "TuOfMxiYEVC2"
      }
    },
    {
      "cell_type": "code",
      "source": [
        "base_model = make_pipeline(\n",
        "StandardScaler(),\n",
        "KNeighborsClassifier()\n",
        ")\n",
        "bagging_model = BaggingClassifier(base_model, n_estimators=10, max_samples=0.5, max_features=0.5)"
      ],
      "metadata": {
        "id": "Vl7e24zzEP6M"
      },
      "execution_count": 5,
      "outputs": []
    },
    {
      "cell_type": "code",
      "source": [
        "cross_val = cross_validate(\n",
        "estimator=base_model,\n",
        "X=cancer.data,\n",
        "y=cancer.target,\n",
        "cv=5\n",
        ")\n",
        "print('avg fit time: {} (+/- {}'.format(cross_val['fit_time'].mean(), cross_val['fit_time'].std()))\n",
        "print('avg score time: {} (+/- {}'.format(cross_val['score_time'].mean(), cross_val['score_time'].std()))\n",
        "print('avg test score: {} (+/- {}'.format(cross_val['test_score'].mean(), cross_val['test_score'].std()))"
      ],
      "metadata": {
        "colab": {
          "base_uri": "https://localhost:8080/"
        },
        "id": "3a7jppdREevO",
        "outputId": "ef795db9-6b8e-4709-da91-65bb9e39bd9e"
      },
      "execution_count": 6,
      "outputs": [
        {
          "output_type": "stream",
          "name": "stdout",
          "text": [
            "avg fit time: 0.002365255355834961 (+/- 0.00039695238825635974\n",
            "avg score time: 0.012912321090698241 (+/- 0.005457787959163932\n",
            "avg test score: 0.9648501785437045 (+/- 0.009609970350036127\n"
          ]
        }
      ]
    },
    {
      "cell_type": "code",
      "source": [
        "cross_val = cross_validate(\n",
        "estimator=bagging_model,\n",
        "X=cancer.data,\n",
        "y=cancer.target,\n",
        "cv=5\n",
        ")\n",
        "print('avg fit time: {} (+/- {}'.format(cross_val['fit_time'].mean(), cross_val['fit_time'].std()))\n",
        "print('avg score time: {} (+/- {}'.format(cross_val['score_time'].mean(), cross_val['score_time'].std()))\n",
        "print('avg test score: {} (+/- {}'.format(cross_val['test_score'].mean(), cross_val['test_score'].std()))"
      ],
      "metadata": {
        "colab": {
          "base_uri": "https://localhost:8080/"
        },
        "id": "49o_IuvbEhl9",
        "outputId": "a9036e16-b0e6-4503-87d4-ca9e2195a821"
      },
      "execution_count": 7,
      "outputs": [
        {
          "output_type": "stream",
          "name": "stdout",
          "text": [
            "avg fit time: 0.047649478912353514 (+/- 0.004121895089687455\n",
            "avg score time: 0.03240780830383301 (+/- 0.003841486603025344\n",
            "avg test score: 0.9631113181183046 (+/- 0.010182126546418263\n"
          ]
        }
      ]
    },
    {
      "cell_type": "markdown",
      "source": [
        "# SVC"
      ],
      "metadata": {
        "id": "5w7NRMDTE5j-"
      }
    },
    {
      "cell_type": "code",
      "source": [
        "base_model = make_pipeline(\n",
        "    StandardScaler(), \n",
        "    SVC()\n",
        ")\n",
        "bagging_model = BaggingClassifier(base_model, n_estimators=10, max_samples=0.5, max_features=0.5)"
      ],
      "metadata": {
        "id": "WQ_nG-duE4wX"
      },
      "execution_count": 11,
      "outputs": []
    },
    {
      "cell_type": "code",
      "source": [
        "cross_val = cross_validate(\n",
        "estimator=base_model,\n",
        "X=cancer.data,\n",
        "y=cancer.target,\n",
        "cv=5\n",
        ")\n",
        "print('avg fit time: {} (+/- {}'.format(cross_val['fit_time'].mean(), cross_val['fit_time'].std()))\n",
        "print('avg score time: {} (+/- {}'.format(cross_val['score_time'].mean(), cross_val['score_time'].std()))\n",
        "print('avg test score: {} (+/- {}'.format(cross_val['test_score'].mean(), cross_val['test_score'].std()))"
      ],
      "metadata": {
        "colab": {
          "base_uri": "https://localhost:8080/"
        },
        "id": "PG1334WcFAzX",
        "outputId": "1d014fc8-705f-4a3b-88fb-4c48de83e9c5"
      },
      "execution_count": 12,
      "outputs": [
        {
          "output_type": "stream",
          "name": "stdout",
          "text": [
            "avg fit time: 0.006666707992553711 (+/- 0.0015369245522201356\n",
            "avg score time: 0.0018837451934814453 (+/- 9.577580279229688e-05\n",
            "avg test score: 0.9736376339077782 (+/- 0.014678541667933545\n"
          ]
        }
      ]
    },
    {
      "cell_type": "code",
      "source": [
        "cross_val = cross_validate(\n",
        "estimator=bagging_model,\n",
        "X=cancer.data,\n",
        "y=cancer.target,\n",
        "cv=5\n",
        ")\n",
        "print('avg fit time: {} (+/- {}'.format(cross_val['fit_time'].mean(), cross_val['fit_time'].std()))\n",
        "print('avg score time: {} (+/- {}'.format(cross_val['score_time'].mean(), cross_val['score_time'].std()))\n",
        "print('avg test score: {} (+/- {}'.format(cross_val['test_score'].mean(), cross_val['test_score'].std()))"
      ],
      "metadata": {
        "colab": {
          "base_uri": "https://localhost:8080/"
        },
        "id": "02ykXzBJFeRn",
        "outputId": "41b4d851-f7da-4f30-f0c5-f1fb66c1000b"
      },
      "execution_count": 13,
      "outputs": [
        {
          "output_type": "stream",
          "name": "stdout",
          "text": [
            "avg fit time: 0.04225177764892578 (+/- 0.0018156899055131186\n",
            "avg score time: 0.010620450973510743 (+/- 0.0013360081209696235\n",
            "avg test score: 0.9613724576929048 (+/- 0.013078882567012277\n"
          ]
        }
      ]
    },
    {
      "cell_type": "markdown",
      "source": [
        "# Decision Tree"
      ],
      "metadata": {
        "id": "fICA5PsgFv9Q"
      }
    },
    {
      "cell_type": "code",
      "source": [
        "base_model = make_pipeline(\n",
        "    StandardScaler(),\n",
        "    DecisionTreeClassifier()\n",
        ")\n",
        "bagging_model = BaggingClassifier(base_model, n_estimators=10, max_samples=0.5, max_features=0.5)"
      ],
      "metadata": {
        "id": "Ir3oQUdsGOh4"
      },
      "execution_count": 15,
      "outputs": []
    },
    {
      "cell_type": "code",
      "source": [
        "cross_val = cross_validate(\n",
        "estimator=base_model,\n",
        "X=cancer.data,\n",
        "y=cancer.target,\n",
        "cv=5\n",
        ")\n",
        "print('avg fit time: {} (+/- {}'.format(cross_val['fit_time'].mean(), cross_val['fit_time'].std()))\n",
        "print('avg score time: {} (+/- {}'.format(cross_val['score_time'].mean(), cross_val['score_time'].std()))\n",
        "print('avg test score: {} (+/- {}'.format(cross_val['test_score'].mean(), cross_val['test_score'].std()))"
      ],
      "metadata": {
        "colab": {
          "base_uri": "https://localhost:8080/"
        },
        "id": "LwN2xCm0GrEq",
        "outputId": "ec0ea371-4230-413d-f43f-41628513b8fc"
      },
      "execution_count": 16,
      "outputs": [
        {
          "output_type": "stream",
          "name": "stdout",
          "text": [
            "avg fit time: 0.012972354888916016 (+/- 0.0021890913461052436\n",
            "avg score time: 0.0011023998260498047 (+/- 2.110638765576426e-05\n",
            "avg test score: 0.9208818506443098 (+/- 0.02015520014316776\n"
          ]
        }
      ]
    },
    {
      "cell_type": "code",
      "source": [
        "cross_val = cross_validate(\n",
        "estimator=bagging_model,\n",
        "X=cancer.data,\n",
        "y=cancer.target,\n",
        "cv=5\n",
        ")\n",
        "print('avg fit time: {} (+/- {}'.format(cross_val['fit_time'].mean(), cross_val['fit_time'].std()))\n",
        "print('avg score time: {} (+/- {}'.format(cross_val['score_time'].mean(), cross_val['score_time'].std()))\n",
        "print('avg test score: {} (+/- {}'.format(cross_val['test_score'].mean(), cross_val['test_score'].std()))"
      ],
      "metadata": {
        "colab": {
          "base_uri": "https://localhost:8080/"
        },
        "id": "uATLjvLbGsiy",
        "outputId": "a14539d6-ca60-41f2-d197-6367b186d242"
      },
      "execution_count": 17,
      "outputs": [
        {
          "output_type": "stream",
          "name": "stdout",
          "text": [
            "avg fit time: 0.06765851974487305 (+/- 0.00816426350921028\n",
            "avg score time: 0.0053444385528564455 (+/- 6.165605870214553e-05\n",
            "avg test score: 0.9543549138332559 (+/- 0.025630545108854628\n"
          ]
        }
      ]
    },
    {
      "cell_type": "markdown",
      "source": [
        "# Random Forest"
      ],
      "metadata": {
        "id": "u09ylDkoGuND"
      }
    },
    {
      "cell_type": "code",
      "source": [
        "from sklearn.ensemble import RandomForestClassifier"
      ],
      "metadata": {
        "id": "-ZcQhJ9sGt7i"
      },
      "execution_count": 18,
      "outputs": []
    },
    {
      "cell_type": "code",
      "source": [
        "model = make_pipeline(\n",
        "StandardScaler(),\n",
        "RandomForestClassifier()\n",
        ")"
      ],
      "metadata": {
        "id": "txOw68EpGyoL"
      },
      "execution_count": 19,
      "outputs": []
    },
    {
      "cell_type": "code",
      "source": [
        "cross_val = cross_validate(\n",
        "estimator=model,\n",
        "X=iris.data,\n",
        "y=iris.target,\n",
        "cv=5\n",
        ")\n",
        "print('avg fit time: {} (+/- {}'.format(cross_val['fit_time'].mean(), cross_val['fit_time'].std()))\n",
        "print('avg score time: {} (+/- {}'.format(cross_val['score_time'].mean(), cross_val['score_time'].std()))\n",
        "print('avg test score: {} (+/- {}'.format(cross_val['test_score'].mean(), cross_val['test_score'].std()))"
      ],
      "metadata": {
        "colab": {
          "base_uri": "https://localhost:8080/"
        },
        "id": "knFNQDHOG1Bi",
        "outputId": "1d43329d-8377-4c38-f8d4-757dae3b35ae"
      },
      "execution_count": 20,
      "outputs": [
        {
          "output_type": "stream",
          "name": "stdout",
          "text": [
            "avg fit time: 0.21072492599487305 (+/- 0.0637566219887816\n",
            "avg score time: 0.016772031784057617 (+/- 0.004937410800159605\n",
            "avg test score: 0.9666666666666668 (+/- 0.02108185106778919\n"
          ]
        }
      ]
    },
    {
      "cell_type": "code",
      "source": [
        "cross_val = cross_validate(\n",
        "estimator=model,\n",
        "X=wine.data,\n",
        "y=wine.target,\n",
        "cv=5\n",
        ")\n",
        "print('avg fit time: {} (+/- {}'.format(cross_val['fit_time'].mean(), cross_val['fit_time'].std()))\n",
        "print('avg score time: {} (+/- {}'.format(cross_val['score_time'].mean(), cross_val['score_time'].std()))\n",
        "print('avg test score: {} (+/- {}'.format(cross_val['test_score'].mean(), cross_val['test_score'].std()))"
      ],
      "metadata": {
        "colab": {
          "base_uri": "https://localhost:8080/"
        },
        "id": "2yHeTfepG4Gq",
        "outputId": "b62f8cce-442c-4d3d-85e4-a19fbc2ca71a"
      },
      "execution_count": 21,
      "outputs": [
        {
          "output_type": "stream",
          "name": "stdout",
          "text": [
            "avg fit time: 0.21974053382873535 (+/- 0.05386101947678809\n",
            "avg score time: 0.01964726448059082 (+/- 0.008409898000496716\n",
            "avg test score: 0.9665079365079364 (+/- 0.020746948644437477\n"
          ]
        }
      ]
    },
    {
      "cell_type": "markdown",
      "source": [
        "# AdaBoost\n",
        "* 대표적인 부스팅 알고리즘\n",
        "* 일련의 약한 모델들을 학습\n",
        "* 수정된 버전의 데이터를 반복 학습 (가중치가 적용된)\n",
        "* 가중치 투표(또는 합)을 통해 각 모델의 예측 값을 결합\n",
        "* 첫 단계에서는 원본 데이터를 학습하고 연속적인 반복마다 개별 샘플에 대한 가중치가 수정되고 다시 모델이 학습\n",
        "  * 잘못 예측된 샘플은 가중치 증가, 올바르게 예측된 샘플은 가중치 감소\n",
        "  * 각각의 약한 모델들은 예측하기 어려운 샘플에 집중하게 됨"
      ],
      "metadata": {
        "id": "mUrhTmEOG6YC"
      }
    },
    {
      "cell_type": "code",
      "source": [
        "from sklearn.ensemble import AdaBoostClassifier"
      ],
      "metadata": {
        "id": "vR_XIiwHG57r"
      },
      "execution_count": 23,
      "outputs": []
    },
    {
      "cell_type": "code",
      "source": [
        "cross_val = cross_validate(\n",
        "estimator=model,\n",
        "X=iris.data,\n",
        "y=iris.target,\n",
        "cv=5\n",
        ")\n",
        "print('avg fit time: {} (+/- {}'.format(cross_val['fit_time'].mean(), cross_val['fit_time'].std()))\n",
        "print('avg score time: {} (+/- {}'.format(cross_val['score_time'].mean(), cross_val['score_time'].std()))\n",
        "print('avg test score: {} (+/- {}'.format(cross_val['test_score'].mean(), cross_val['test_score'].std()))"
      ],
      "metadata": {
        "colab": {
          "base_uri": "https://localhost:8080/"
        },
        "id": "VAMDbZWsHKCr",
        "outputId": "65a1ab16-137e-4eea-b92b-7dbc211bac54"
      },
      "execution_count": 24,
      "outputs": [
        {
          "output_type": "stream",
          "name": "stdout",
          "text": [
            "avg fit time: 0.2065443992614746 (+/- 0.06163998184319875\n",
            "avg score time: 0.015697431564331055 (+/- 0.004663396940108482\n",
            "avg test score: 0.9666666666666668 (+/- 0.02108185106778919\n"
          ]
        }
      ]
    },
    {
      "cell_type": "code",
      "source": [
        "cross_val = cross_validate(\n",
        "estimator=model,\n",
        "X=wine.data,\n",
        "y=wine.target,\n",
        "cv=5\n",
        ")\n",
        "print('avg fit time: {} (+/- {}'.format(cross_val['fit_time'].mean(), cross_val['fit_time'].std()))\n",
        "print('avg score time: {} (+/- {}'.format(cross_val['score_time'].mean(), cross_val['score_time'].std()))\n",
        "print('avg test score: {} (+/- {}'.format(cross_val['test_score'].mean(), cross_val['test_score'].std()))"
      ],
      "metadata": {
        "colab": {
          "base_uri": "https://localhost:8080/"
        },
        "id": "fPc7GrOvHNXz",
        "outputId": "8e86c4aa-7569-4bb3-c2ab-ed5455465f17"
      },
      "execution_count": 25,
      "outputs": [
        {
          "output_type": "stream",
          "name": "stdout",
          "text": [
            "avg fit time: 0.1745926856994629 (+/- 0.06069436475561617\n",
            "avg score time: 0.011860513687133789 (+/- 0.003961759254423774\n",
            "avg test score: 0.9663492063492063 (+/- 0.020705617598882967\n"
          ]
        }
      ]
    },
    {
      "cell_type": "code",
      "source": [
        "cross_val = cross_validate(\n",
        "estimator=model,\n",
        "X=cancer.data,\n",
        "y=cancer.target,\n",
        "cv=5\n",
        ")\n",
        "print('avg fit time: {} (+/- {}'.format(cross_val['fit_time'].mean(), cross_val['fit_time'].std()))\n",
        "print('avg score time: {} (+/- {}'.format(cross_val['score_time'].mean(), cross_val['score_time'].std()))\n",
        "print('avg test score: {} (+/- {}'.format(cross_val['test_score'].mean(), cross_val['test_score'].std()))"
      ],
      "metadata": {
        "colab": {
          "base_uri": "https://localhost:8080/"
        },
        "id": "H0w_BM7lHPI7",
        "outputId": "c59c9991-5e8f-41db-d3b0-2080cdfbcdb9"
      },
      "execution_count": 26,
      "outputs": [
        {
          "output_type": "stream",
          "name": "stdout",
          "text": [
            "avg fit time: 0.3336520195007324 (+/- 0.03836726434118555\n",
            "avg score time: 0.02322869300842285 (+/- 0.008485268819391647\n",
            "avg test score: 0.9613569321533924 (+/- 0.02188635255516712\n"
          ]
        }
      ]
    },
    {
      "cell_type": "markdown",
      "source": [
        "# Voting Classifier\n",
        "* 서로 다른 모델들의 결과를 투표를 통해 결합\n",
        "* 두가지 방법으로 투표 가능\n",
        "  * 가장 많이 예측된 클래스를 정답으로 채택 (hard voting)\n",
        "  * 예측된 확률의 가중치 평균 (soft voting)"
      ],
      "metadata": {
        "id": "S9BDm-n9HUup"
      }
    },
    {
      "cell_type": "code",
      "source": [
        "from sklearn.ensemble import VotingClassifier\n",
        "from sklearn.model_selection import cross_val_score\n",
        "from sklearn.naive_bayes import GaussianNB"
      ],
      "metadata": {
        "id": "y3GIZ85xHYo1"
      },
      "execution_count": 27,
      "outputs": []
    },
    {
      "cell_type": "code",
      "source": [
        "# hard voting\n",
        "model1 = SVC()\n",
        "model2 = GaussianNB()\n",
        "model3 = RandomForestClassifier()\n",
        "vote_model = VotingClassifier(\n",
        "estimators=[('svc', model1), ('naive', model2), ('forest', model3)],\n",
        "voting='hard'\n",
        ")"
      ],
      "metadata": {
        "id": "oMu5g_GhHakF"
      },
      "execution_count": 28,
      "outputs": []
    },
    {
      "cell_type": "code",
      "source": [
        "for model in (model1, model2, model3, vote_model):\n",
        "  print(type(model))"
      ],
      "metadata": {
        "colab": {
          "base_uri": "https://localhost:8080/"
        },
        "id": "O2Vfe8fFHe6s",
        "outputId": "68ede63c-c673-4c92-871a-1bca44a769a8"
      },
      "execution_count": 30,
      "outputs": [
        {
          "output_type": "stream",
          "name": "stdout",
          "text": [
            "<class 'sklearn.svm._classes.SVC'>\n",
            "<class 'sklearn.naive_bayes.GaussianNB'>\n",
            "<class 'sklearn.ensemble._forest.RandomForestClassifier'>\n",
            "<class 'sklearn.ensemble._voting.VotingClassifier'>\n"
          ]
        }
      ]
    },
    {
      "cell_type": "code",
      "source": [
        "for model in (model1, model2, model3, vote_model):\n",
        "  print(str(type(model)).split('.')[-1])"
      ],
      "metadata": {
        "colab": {
          "base_uri": "https://localhost:8080/"
        },
        "id": "6EDrylGDHgtM",
        "outputId": "bcff2ce2-7104-4e69-9158-5f720697dc8a"
      },
      "execution_count": 31,
      "outputs": [
        {
          "output_type": "stream",
          "name": "stdout",
          "text": [
            "SVC'>\n",
            "GaussianNB'>\n",
            "RandomForestClassifier'>\n",
            "VotingClassifier'>\n"
          ]
        }
      ]
    },
    {
      "cell_type": "code",
      "source": [
        "for model in (model1, model2, model3, vote_model):\n",
        "  model_name = str(type(model)).split('.')[-1][:-2]\n",
        "  scores = cross_val_score(model, iris.data, iris.target, cv=5)\n",
        "  print('Accuracy: %.2f (+/- %.2f) [%s]' % (scores.mean(), scores.std(), model_name))"
      ],
      "metadata": {
        "colab": {
          "base_uri": "https://localhost:8080/"
        },
        "id": "EB3W9AK6HoeM",
        "outputId": "f76db7f6-be83-471c-ab20-59810fa1ee10"
      },
      "execution_count": 33,
      "outputs": [
        {
          "output_type": "stream",
          "name": "stdout",
          "text": [
            "Accuracy: 0.97 (+/- 0.02) [SVC]\n",
            "Accuracy: 0.95 (+/- 0.03) [GaussianNB]\n",
            "Accuracy: 0.96 (+/- 0.02) [RandomForestClassifier]\n",
            "Accuracy: 0.96 (+/- 0.02) [VotingClassifier]\n"
          ]
        }
      ]
    },
    {
      "cell_type": "code",
      "source": [
        "# soft voting\n",
        "model1 = SVC(probability=True)\n",
        "model2 = GaussianNB()\n",
        "model3 = RandomForestClassifier()\n",
        "vote_model = VotingClassifier(\n",
        "  estimators=[('svc', model1), ('naive', model2), ('forest', model3)],\n",
        "  voting='soft',\n",
        "  weights=[2, 1, 2]\n",
        ") "
      ],
      "metadata": {
        "id": "V06Q6yPHHrFt"
      },
      "execution_count": 35,
      "outputs": []
    },
    {
      "cell_type": "code",
      "source": [
        "for model in (model1, model2, model3, vote_model):\n",
        "  model_name = str(type(model)).split('.')[-1][:-2]\n",
        "  scores = cross_val_score(model, iris.data, iris.target, cv=5)\n",
        "  print('Accuracy: %.2f (+/- %.2f) [%s]' % (scores.mean(), scores.std(), model_name))"
      ],
      "metadata": {
        "colab": {
          "base_uri": "https://localhost:8080/"
        },
        "id": "7D7hMKVnHwNF",
        "outputId": "48d34829-79fe-4ccc-d8e1-f5696c549dbe"
      },
      "execution_count": 36,
      "outputs": [
        {
          "output_type": "stream",
          "name": "stdout",
          "text": [
            "Accuracy: 0.97 (+/- 0.02) [SVC]\n",
            "Accuracy: 0.95 (+/- 0.03) [GaussianNB]\n",
            "Accuracy: 0.96 (+/- 0.02) [RandomForestClassifier]\n",
            "Accuracy: 0.96 (+/- 0.02) [VotingClassifier]\n"
          ]
        }
      ]
    },
    {
      "cell_type": "markdown",
      "source": [
        "# XGBoost\n",
        "* 트리 기반의 앙상블 기법\n",
        "* 분류에 있어서 다른 알고리즘보다 좋은 예측 성능을 보여줌\n",
        "* XGBoost는 GBM 기반이지만, GBM의 단점인 느린 수행 시간과 과적합 규제 부재 등의 문제를 해결\n",
        "* 병렬 CPU 환경에서 빠르게 학습 가능\n",
        "* kaggle 도전 데이터 과학자에서 5년 연속 1위한 알고리즘\n"
      ],
      "metadata": {
        "id": "eLfxKtMGH03d"
      }
    },
    {
      "cell_type": "code",
      "source": [
        "!pip install xgboost"
      ],
      "metadata": {
        "colab": {
          "base_uri": "https://localhost:8080/"
        },
        "id": "Jc04njMuH9d9",
        "outputId": "96902ba8-5166-4e46-e93c-497120bf8ae3"
      },
      "execution_count": 37,
      "outputs": [
        {
          "output_type": "stream",
          "name": "stdout",
          "text": [
            "Requirement already satisfied: xgboost in /usr/local/lib/python3.7/dist-packages (0.90)\n",
            "Requirement already satisfied: scipy in /usr/local/lib/python3.7/dist-packages (from xgboost) (1.4.1)\n",
            "Requirement already satisfied: numpy in /usr/local/lib/python3.7/dist-packages (from xgboost) (1.21.6)\n"
          ]
        }
      ]
    },
    {
      "cell_type": "code",
      "source": [
        "from xgboost import XGBClassifier\n",
        "from xgboost import plot_importance\n",
        "from sklearn.metrics import accuracy_score, classification_report"
      ],
      "metadata": {
        "id": "uotXGzN8H_01"
      },
      "execution_count": 38,
      "outputs": []
    },
    {
      "cell_type": "code",
      "source": [
        "X_train, X_test, y_train, y_test = train_test_split(cancer.data, cancer.target, test_size=.2, random_state=123)"
      ],
      "metadata": {
        "id": "1_qwc_TiIBzd"
      },
      "execution_count": 39,
      "outputs": []
    },
    {
      "cell_type": "code",
      "source": [
        "xgbc = XGBClassifier(n_esimators=400, learning_rate=0.1, max_depth=3)\n",
        "xgbc.fit(X_train, y_train)"
      ],
      "metadata": {
        "colab": {
          "base_uri": "https://localhost:8080/"
        },
        "id": "0ocfGSiIID4V",
        "outputId": "85e6694a-21c5-40bc-c47d-71ace9b04789"
      },
      "execution_count": 40,
      "outputs": [
        {
          "output_type": "execute_result",
          "data": {
            "text/plain": [
              "XGBClassifier(n_esimators=400)"
            ]
          },
          "metadata": {},
          "execution_count": 40
        }
      ]
    },
    {
      "cell_type": "code",
      "source": [
        "# 중요 변수 확인 및 시각화 : y에 영향을 미치는 변수\n",
        "plot_importance(xgbc)\n",
        "plt.yticks(range(len(cancer.feature_names)), cancer.feature_names)\n",
        "plt.show()"
      ],
      "metadata": {
        "colab": {
          "base_uri": "https://localhost:8080/",
          "height": 295
        },
        "id": "4midpeNnIE_F",
        "outputId": "1b4da131-fa04-48ec-851f-bea8578b5fec"
      },
      "execution_count": 41,
      "outputs": [
        {
          "output_type": "display_data",
          "data": {
            "text/plain": [
              "<Figure size 432x288 with 1 Axes>"
            ],
            "image/png": "[encoded data removed]"
          },
          "metadata": {
            "needs_background": "light"
          }
        }
      ]
    },
    {
      "cell_type": "code",
      "source": [
        "y_pred = xgbc.predict(X_test)\n",
        "print(accuracy_score(y_test, y_pred))"
      ],
      "metadata": {
        "colab": {
          "base_uri": "https://localhost:8080/"
        },
        "id": "RtaIr_sQIIFN",
        "outputId": "3cbe8ba4-29e5-43b5-f380-472222e7d3b5"
      },
      "execution_count": 42,
      "outputs": [
        {
          "output_type": "stream",
          "name": "stdout",
          "text": [
            "0.9824561403508771\n"
          ]
        }
      ]
    },
    {
      "cell_type": "code",
      "source": [
        "print(classification_report(y_test, y_pred))"
      ],
      "metadata": {
        "colab": {
          "base_uri": "https://localhost:8080/"
        },
        "id": "xCukXvfqIJl9",
        "outputId": "b883f6d0-5996-4022-9994-f7c661da1fed"
      },
      "execution_count": 43,
      "outputs": [
        {
          "output_type": "stream",
          "name": "stdout",
          "text": [
            "              precision    recall  f1-score   support\n",
            "\n",
            "           0       0.98      0.98      0.98        41\n",
            "           1       0.99      0.99      0.99        73\n",
            "\n",
            "    accuracy                           0.98       114\n",
            "   macro avg       0.98      0.98      0.98       114\n",
            "weighted avg       0.98      0.98      0.98       114\n",
            "\n"
          ]
        }
      ]
    }
  ]
}