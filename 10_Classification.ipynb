{
  "cells": [
    {
      "cell_type": "markdown",
      "metadata": {
        "id": "view-in-github",
        "colab_type": "text"
      },
      "source": [
        "<a href=\"https://colab.research.google.com/github/river6907/Data-Mining/blob/main/10_Classification.ipynb\" target=\"_parent\"><img src=\"https://colab.research.google.com/assets/colab-badge.svg\" alt=\"Open In Colab\"/></a>"
      ]
    },
    {
      "cell_type": "markdown",
      "id": "7a9f6dea",
      "metadata": {
        "id": "7a9f6dea"
      },
      "source": [
        "# 머신러닝을 위한 파이썬 라이브러리, scikit-learn\n",
        "\n",
        "![scikit-learn logo.png](https://drive.google.com/uc?id=1Aeb0mBJzYgz7UGmHAdGsQJF44EM9mNTD)"
      ]
    },
    {
      "cell_type": "markdown",
      "id": "cfa5a2da",
      "metadata": {
        "id": "cfa5a2da"
      },
      "source": [
        "## scikit-learn 특징\n",
        "\n",
        "* 다양한 머신러닝 알고리즘을 구현한 파이썬 라이브러리\n",
        "* 심플하고 일관성 있는 API, 유용한 온라인 문서, 풍부한 예제\n",
        "* 머신러닝을 위한 쉽고 효율적인 개발 라이브러리 제공\n",
        "* 다양한 머신러닝 관련 알고리즘과 개발을 위한 프레임워크와 API 제공\n",
        "* 많은 사람들이 사용하며 다양한 환경에서 검증된 라이브러리"
      ]
    },
    {
      "cell_type": "markdown",
      "id": "62f40cf9",
      "metadata": {
        "id": "62f40cf9"
      },
      "source": [
        "## scikit-learn 주요 모듈\n",
        "\n",
        "| 모듈 | 설명 |\n",
        "|------|------|\n",
        "| `sklearn.datasets` | 내장된 예제 데이터 세트 |\n",
        "| `sklearn.preprocessing` | 다양한 데이터 전처리 기능 제공 (변환, 정규화, 스케일링 등) |\n",
        "| `sklearn.feature_selection` | 특징(feature)를 선택할 수 있는 기능 제공 | \n",
        "| `sklearn.feature_extraction` | 특징(feature) 추출에 사용 |\n",
        "| `sklearn.decomposition` | 차원 축소 관련 알고리즘 지원 (PCA, NMF, Truncated SVD 등)\n",
        "| `sklearn.model_selection` | 교차 검증을 위해 데이터를 학습/테스트용으로 분리, 최적 파라미터를 추출하는 API 제공 (GridSearch 등)\n",
        "| `sklearn.metrics` | 분류, 회귀, 클러스터링, Pairwise에 대한 다양한 성능 측정 방법 제공 (Accuracy, Precision, Recall, ROC-AUC, RMSE 등) |\n",
        "| `sklearn.pipeline` | 특징 처리 등의 변환과 ML 알고리즘 학습, 예측 등을 묶어서 실행할 수 있는 유틸리티 제공 |\n",
        "| `sklearn.linear_model` | 선형 회귀, 릿지(Ridge), 라쏘(Lasso), 로지스틱 회귀 등 회귀 관련 알고리즘과 SGD(Stochastic Gradient Descent) 알고리즘 제공 |\n",
        "| `sklearn.svm` | 서포트 벡터 머신 알고리즘 제공 |\n",
        "| `sklearn.neighbors` | 최근접 이웃 알고리즘 제공 (k-NN 등)\n",
        "| `sklearn.naive_bayes` | 나이브 베이즈 알고리즘 제공 (가우시안 NB, 다항 분포 NB 등) |\n",
        "| `sklearn.tree` | 의사 결정 트리 알고리즘 제공 |\n",
        "| `sklearn.ensemble` | 앙상블 알고리즘 제공 (Random Forest, AdaBoost, GradientBoost 등) |\n",
        "| `sklearn.cluster` | 비지도 클러스터링 알고리즘 제공 (k-Means, 계층형 클러스터링, DBSCAN 등)"
      ]
    },
    {
      "cell_type": "markdown",
      "id": "df611cf8",
      "metadata": {
        "id": "df611cf8"
      },
      "source": [
        "## 연습용 데이터 세트\n",
        "\n",
        "### 분류 또는 회귀용 데이터 세트\n",
        "\n",
        "| API | 설명 |\n",
        "|-----|------|\n",
        "| `datasets.load_boston()` | 미국 보스턴의 집에 대한 특징과 가격 데이터 (회귀용) |\n",
        "| `datasets.load_iris()` | 붓꽃에 대한 특징을 가진 데이터 (분류용) |\n",
        "| `datasets.load_diabetes()` | 당뇨 데이터 (회귀용) |\n",
        "| `datasets.load_wine()` | 와인에 대한 특징을 가진 데이터 (분류용) |\n",
        "| `datasets.load_breast_cancer()` | 위스콘신 유방암 특징들과 악성/음성 레이블 데이터 (분류용) |\n",
        "| `datasets.load_digits()` | 0에서 9까지 숫자 이미지 픽셀 데이터 (분류용) |\n",
        "\n",
        "### 온라인 데이터 세트\n",
        "\n",
        "* 데이터 크기가 커서 온라인에서 데이터를 다운로드 한 후에 불러오는 예제 데이터 세트\n",
        "\n",
        "| API | 설명 |\n",
        "|-----|------|\n",
        "| `fetch_california_housing()` | 캘리포니아 주택 가격 데이터 |\n",
        "| `fetch_covtype()` | 회귀 분석용 토지 조사 데이터 |\n",
        "| `fetch_20newsgroups()` | 뉴스 그룹 텍스트 데이터 |\n",
        "| `fetch_olivetti_faces()` | 얼굴 이미지 데이터 |\n",
        "| `fetch_lfw_people()` | 얼굴 이미지 데이터 |\n",
        "| `fetch_lfw_paris()` | 얼굴 이미지 데이터 |\n",
        "| `fetch_rcv1()` | 로이터 뉴스 말뭉치 데이터 |\n",
        "| `fetch_mldata()` | ML 웹사이트에서 다운로드 |\n",
        "\n",
        "### 분류와 클러스터링을 위한 표본 데이터 생성\n",
        "\n",
        "| API | 설명 |\n",
        "|-----|------|\n",
        "| `datasets.make_classifications()` | 분류를 위한 데이터 세트 생성. 높은 상관도, 불필요한 속성 등의 노이즈를 고려한 데이터를 무작위로 생성 |\n",
        "| `datasets.make_blobs()` | 클러스터링을 위한 데이터 세트 생성. 군집 지정 개수에 따라 여러 가지 클러스터링을 위한 데이터 셋트를 무작위로 생성 |\n",
        "\n",
        "### 예제 데이터 세트 구조\n",
        "\n",
        "* 일반적으로 딕셔너리 형태로 구성\n",
        "* data: 특징 데이터 세트\n",
        "* target: 분류용은 레이블 값, 회귀용은 숫자 결과값 데이터\n",
        "* target_names: 개별 레이블의 이름 (분류용)\n",
        "* feature_names: 특징 이름\n",
        "* DESCR: 데이터 세트에 대한 설명과 각 특징 설명"
      ]
    },
    {
      "cell_type": "code",
      "execution_count": 1,
      "id": "68b5d6fe",
      "metadata": {
        "colab": {
          "base_uri": "https://localhost:8080/"
        },
        "id": "68b5d6fe",
        "outputId": "21f2710f-109d-45e3-9845-ad373964466d"
      },
      "outputs": [
        {
          "output_type": "stream",
          "name": "stdout",
          "text": [
            "dict_keys(['data', 'target', 'frame', 'DESCR', 'feature_names', 'data_filename', 'target_filename', 'data_module'])\n"
          ]
        }
      ],
      "source": [
        "from sklearn.datasets import load_diabetes\n",
        "diabetes = load_diabetes()\n",
        "print(diabetes.keys())"
      ]
    },
    {
      "cell_type": "markdown",
      "id": "654d88d6",
      "metadata": {
        "id": "654d88d6"
      },
      "source": [
        "----------------------------------------------------"
      ]
    },
    {
      "cell_type": "markdown",
      "id": "6b23b6d7",
      "metadata": {
        "id": "6b23b6d7"
      },
      "source": [
        "# 라이브러리 설정"
      ]
    },
    {
      "cell_type": "code",
      "execution_count": 2,
      "id": "5fffe7f8",
      "metadata": {
        "id": "5fffe7f8"
      },
      "outputs": [],
      "source": [
        "import numpy as np\n",
        "import pandas as pd\n",
        "from sklearn import metrics\n",
        "from sklearn import tree\n",
        "from sklearn.model_selection import train_test_split\n",
        "from sklearn.preprocessing import StandardScaler\n",
        "from sklearn.metrics import confusion_matrix, precision_score, recall_score, accuracy_score, f1_score\n",
        "from sklearn.pipeline import make_pipeline, Pipeline\n",
        "from sklearn.tree import DecisionTreeClassifier\n",
        "from sklearn.neighbors import KNeighborsClassifier\n",
        "from sklearn.svm import SVC\n",
        "from sklearn.naive_bayes import GaussianNB, MultinomialNB\n",
        "from sklearn.datasets import load_iris, fetch_20newsgroups\n",
        "from sklearn.feature_extraction.text import CountVectorizer, HashingVectorizer, TfidfVectorizer\n"
      ]
    },
    {
      "cell_type": "markdown",
      "id": "066182b4",
      "metadata": {
        "id": "066182b4"
      },
      "source": [
        "# Decision Tree\n",
        "\n",
        "scikit-learn은 CART 알고리즘(gini 사용)을 사용하여 이진트리를 생성\n",
        "\n",
        "gini 대신 entropy를 사용하려면, 생성자에 criterion='entropy' 인자로 지정"
      ]
    },
    {
      "cell_type": "markdown",
      "id": "f4d2ff18",
      "metadata": {
        "id": "f4d2ff18"
      },
      "source": [
        "## 1. 데이터 준비 - 유방암 데이터"
      ]
    },
    {
      "cell_type": "code",
      "execution_count": 3,
      "id": "dd190a6f",
      "metadata": {
        "colab": {
          "base_uri": "https://localhost:8080/"
        },
        "id": "dd190a6f",
        "outputId": "31b3f409-b3ca-403c-c41d-ef0fce8b4d9a"
      },
      "outputs": [
        {
          "output_type": "stream",
          "name": "stdout",
          "text": [
            "cancer.keys : \n",
            " dict_keys(['data', 'target', 'frame', 'target_names', 'DESCR', 'feature_names', 'filename', 'data_module'])\n"
          ]
        }
      ],
      "source": [
        "from sklearn.datasets import load_breast_cancer\n",
        "cancer = load_breast_cancer(as_frame=True) #data 불러오는 방법 \n",
        "print('cancer.keys : \\n', cancer.keys())"
      ]
    },
    {
      "cell_type": "code",
      "execution_count": 4,
      "id": "a099d814",
      "metadata": {
        "colab": {
          "base_uri": "https://localhost:8080/"
        },
        "id": "a099d814",
        "outputId": "eb18224c-4893-42f6-9c94-dc28b8caa255"
      },
      "outputs": [
        {
          "output_type": "stream",
          "name": "stdout",
          "text": [
            "(569, 30)\n"
          ]
        }
      ],
      "source": [
        "print(cancer.data.shape)"
      ]
    },
    {
      "cell_type": "code",
      "execution_count": 5,
      "id": "5a96c4f6",
      "metadata": {
        "colab": {
          "base_uri": "https://localhost:8080/"
        },
        "id": "5a96c4f6",
        "outputId": "bc4a7eb5-e857-41d6-d5c0-f6c61d3365b1"
      },
      "outputs": [
        {
          "output_type": "stream",
          "name": "stdout",
          "text": [
            "['mean radius' 'mean texture' 'mean perimeter' 'mean area'\n",
            " 'mean smoothness' 'mean compactness' 'mean concavity'\n",
            " 'mean concave points' 'mean symmetry' 'mean fractal dimension'\n",
            " 'radius error' 'texture error' 'perimeter error' 'area error'\n",
            " 'smoothness error' 'compactness error' 'concavity error'\n",
            " 'concave points error' 'symmetry error' 'fractal dimension error'\n",
            " 'worst radius' 'worst texture' 'worst perimeter' 'worst area'\n",
            " 'worst smoothness' 'worst compactness' 'worst concavity'\n",
            " 'worst concave points' 'worst symmetry' 'worst fractal dimension']\n"
          ]
        }
      ],
      "source": [
        "print(cancer.feature_names)"
      ]
    },
    {
      "cell_type": "code",
      "execution_count": 6,
      "id": "72b5e376",
      "metadata": {
        "colab": {
          "base_uri": "https://localhost:8080/"
        },
        "id": "72b5e376",
        "outputId": "d64e4d01-5ce4-4951-9c69-0f69d28961e3"
      },
      "outputs": [
        {
          "output_type": "stream",
          "name": "stdout",
          "text": [
            "['malignant' 'benign']\n"
          ]
        }
      ],
      "source": [
        "print(cancer.target_names)  # malignant : 악성, benign : 양성"
      ]
    },
    {
      "cell_type": "markdown",
      "id": "325dabef",
      "metadata": {
        "id": "325dabef"
      },
      "source": [
        "## 2. 모델 생성"
      ]
    },
    {
      "cell_type": "code",
      "execution_count": 9,
      "id": "6d22dc90",
      "metadata": {
        "id": "6d22dc90"
      },
      "outputs": [],
      "source": [
        "X_train, X_test, y_train, y_test = train_test_split(cancer.data, cancer.target, test_size=.3, stratify=cancer.target) \n",
        "# stratify 고르게 샘플링하기 위해서 쏠리지 않도록 하는 것"
      ]
    },
    {
      "cell_type": "code",
      "execution_count": 31,
      "id": "dc8e664a",
      "metadata": {
        "colab": {
          "base_uri": "https://localhost:8080/"
        },
        "id": "dc8e664a",
        "outputId": "fcd74e8d-63e0-411f-a263-c87accf75911"
      },
      "outputs": [
        {
          "output_type": "stream",
          "name": "stdout",
          "text": [
            "훈련집합 정확도 : 1.000\n",
            "테스트집합 정확도 : 0.912\n"
          ]
        }
      ],
      "source": [
        "tree = DecisionTreeClassifier()\n",
        "tree.fit(X_train, y_train) # 모델에 적합시켜줌\n",
        "print(\"훈련집합 정확도 : {:.3f}\".format(tree.score(X_train, y_train)))\n",
        "print(\"테스트집합 정확도 : {:.3f}\".format(tree.score(X_test, y_test)))"
      ]
    },
    {
      "cell_type": "markdown",
      "id": "ea8396e0",
      "metadata": {
        "id": "ea8396e0"
      },
      "source": [
        "### 규제 매개변수\n",
        "* max_depth : 트리 최대 깊이\n",
        "* min_samples_split : 분할되기 위해 노드가 가져야 하는 최소 샘플 수\n",
        "* min_samples_leaf : leaf node가 가지고 있어야할 최소 샘플 수\n",
        "* min_weight_fraction_leaf : min_samples_leaf와 비슷하지만, 가중치가 부여된 전체 샘플 수에서의 비율\n",
        "* max_leaf_nodes : leaf node의 총 최대 개수\n",
        "* max_features : 최상의 분할을 찾을 때 고려할 기능의 수\n",
        "\n",
        "\n",
        "#### min_으로 시작하는 매개변수 값 증가 -> 모델 규제 강화 -> 과적합 감소\n",
        "#### max_으로 시작하는 매개변수 값 감소 -> 모델 규제 강화 -> 과적합 감소"
      ]
    },
    {
      "cell_type": "code",
      "execution_count": 30,
      "id": "c98ffe4a",
      "metadata": {
        "colab": {
          "base_uri": "https://localhost:8080/"
        },
        "id": "c98ffe4a",
        "outputId": "652d2cb4-4bd6-416b-a36c-ed03b3c7e180"
      },
      "outputs": [
        {
          "output_type": "stream",
          "name": "stdout",
          "text": [
            "훈련집합 정확도 : 0.982\n",
            "테스트집합 정확도 : 0.924\n"
          ]
        }
      ],
      "source": [
        "tree = DecisionTreeClassifier(max_depth=4)  #tree를 일반화하는 방법  \n",
        "tree.fit(X_train, y_train)\n",
        "print(\"훈련집합 정확도 : {:.3f}\".format(tree.score(X_train, y_train)))\n",
        "print(\"테스트집합 정확도 : {:.3f}\".format(tree.score(X_test, y_test)))"
      ]
    },
    {
      "cell_type": "markdown",
      "id": "a6e39d49",
      "metadata": {
        "id": "a6e39d49"
      },
      "source": [
        "## 3. 트리 시각화"
      ]
    },
    {
      "cell_type": "markdown",
      "id": "1f344793",
      "metadata": {
        "id": "1f344793"
      },
      "source": [
        "# KNN"
      ]
    },
    {
      "cell_type": "markdown",
      "id": "cf55aacd",
      "metadata": {
        "id": "cf55aacd"
      },
      "source": [
        "## 1. 데이터 준비 - 와인 데이터"
      ]
    },
    {
      "cell_type": "code",
      "execution_count": null,
      "id": "f89632ca",
      "metadata": {
        "id": "f89632ca"
      },
      "outputs": [],
      "source": [
        "from sklearn.datasets import load_wine #직접 프레임 형태로 안 먹는다 그러면 강제로 dataframe형태로 만들면 된다.\n",
        "wine = load_wine()\n",
        "wine_df = pd.DataFrame(data=wine.data, columns=wine.feature_names)\n",
        "wine_df['target'] = wine.target\n",
        "wine_df"
      ]
    },
    {
      "cell_type": "markdown",
      "id": "664eca87",
      "metadata": {
        "id": "664eca87"
      },
      "source": [
        "## 2. 모델 생성, 성능 확인"
      ]
    },
    {
      "cell_type": "code",
      "execution_count": 44,
      "id": "4dfa3570",
      "metadata": {
        "colab": {
          "base_uri": "https://localhost:8080/"
        },
        "id": "4dfa3570",
        "outputId": "4d26026b-391c-4caa-dd57-8e1dfa88f983"
      },
      "outputs": [
        {
          "output_type": "stream",
          "name": "stdout",
          "text": [
            "K= 1 일 때 정확도 :  0.667\n",
            "K= 3 일 때 정확도 :  0.694\n",
            "K= 5 일 때 정확도 :  0.611\n",
            "K= 10 일 때 정확도 :  0.556\n"
          ]
        }
      ],
      "source": [
        "X, y = wine.data, wine.target\n",
        "X_train, X_test, y_train, y_test = train_test_split(X, y, test_size=.2)\n",
        "for k in (1, 3, 5, 10):\n",
        "  knn = KNeighborsClassifier(n_neighbors=k)\n",
        "  knn.fit(X_train, y_train)\n",
        "  y_pred = knn.predict(X_test)\n",
        "  score = metrics.accuracy_score(y_test, y_pred)\n",
        "  print('K={0: d} 일 때 정확도 : {1: .3f}'.format(k, score))"
      ]
    },
    {
      "cell_type": "markdown",
      "id": "b08eae26",
      "metadata": {
        "id": "b08eae26"
      },
      "source": [
        "### 표준화 수행"
      ]
    },
    {
      "cell_type": "code",
      "execution_count": 33,
      "id": "4d750764",
      "metadata": {
        "id": "4d750764"
      },
      "outputs": [],
      "source": [
        "scaler = StandardScaler()\n",
        "X_train_scale = scaler.fit_transform(X_train)\n",
        "X_test_scale = scaler.transform(X_test)"
      ]
    },
    {
      "cell_type": "code",
      "execution_count": 37,
      "id": "985a6b18",
      "metadata": {
        "colab": {
          "base_uri": "https://localhost:8080/"
        },
        "id": "985a6b18",
        "outputId": "02dc826e-8db6-4206-878c-9c7f2deb6e72"
      },
      "outputs": [
        {
          "output_type": "stream",
          "name": "stdout",
          "text": [
            "K = 1 일 때 정확도 :  0.942\n",
            "K = 3 일 때 정확도 :  0.959\n",
            "K = 5 일 때 정확도 :  0.959\n",
            "K = 10 일 때 정확도 :  0.971\n"
          ]
        }
      ],
      "source": [
        "for k in (1,3,5,10):\n",
        "  knn = KNeighborsClassifier(n_neighbors=k)\n",
        "  knn.fit(X_train_scale, y_train)\n",
        "  y_pred = knn.predict(X_test_scale)\n",
        "  score = metrics.accuracy_score(y_test, y_pred)\n",
        "  print('K = {0:d} 일 때 정확도 : {1: .3f}'.format(k, score))"
      ]
    },
    {
      "cell_type": "markdown",
      "id": "a83c33c3",
      "metadata": {
        "id": "a83c33c3"
      },
      "source": [
        "# Support Vector Machine"
      ]
    },
    {
      "cell_type": "code",
      "execution_count": 39,
      "id": "eeeb0302",
      "metadata": {
        "id": "eeeb0302"
      },
      "outputs": [],
      "source": [
        "X, y = load_breast_cancer(return_X_y=True)\n",
        "X_train, X_test, y_train, y_test = train_test_split(X, y, test_size=.2)"
      ]
    },
    {
      "cell_type": "code",
      "execution_count": 40,
      "id": "48b174a5",
      "metadata": {
        "id": "48b174a5"
      },
      "outputs": [],
      "source": [
        "scaler = StandardScaler()\n",
        "scaler.fit(X_train)\n",
        "X_train = scaler.transform(X_train)\n",
        "X_test = scaler.transform(X_test)"
      ]
    },
    {
      "cell_type": "markdown",
      "id": "43a0c7dd",
      "metadata": {
        "id": "43a0c7dd"
      },
      "source": [
        "## linear SVC"
      ]
    },
    {
      "cell_type": "code",
      "execution_count": 41,
      "id": "72eef3c5",
      "metadata": {
        "colab": {
          "base_uri": "https://localhost:8080/"
        },
        "id": "72eef3c5",
        "outputId": "ed797778-9139-41ab-cd8b-473ab32f5cd0"
      },
      "outputs": [
        {
          "output_type": "execute_result",
          "data": {
            "text/plain": [
              "SVC(kernel='linear')"
            ]
          },
          "metadata": {},
          "execution_count": 41
        }
      ],
      "source": [
        "model = SVC(kernel='linear')\n",
        "model.fit(X_train, y_train)"
      ]
    },
    {
      "cell_type": "code",
      "execution_count": 42,
      "id": "6ae6ad6d",
      "metadata": {
        "colab": {
          "base_uri": "https://localhost:8080/"
        },
        "id": "6ae6ad6d",
        "outputId": "b68b3c91-1f8f-4b79-a1b4-6f46d0519c6a"
      },
      "outputs": [
        {
          "output_type": "stream",
          "name": "stdout",
          "text": [
            "학습 데이터 점수: 0.9802197802197802\n",
            "평가 데이터 점수: 0.9824561403508771\n"
          ]
        }
      ],
      "source": [
        "print('학습 데이터 점수: {}'.format(model.score(X_train, y_train)))\n",
        "print('평가 데이터 점수: {}'.format(model.score(X_test, y_test)))"
      ]
    },
    {
      "cell_type": "markdown",
      "id": "66f0c3a7",
      "metadata": {
        "id": "66f0c3a7"
      },
      "source": [
        "## kernel SVC"
      ]
    },
    {
      "cell_type": "code",
      "execution_count": null,
      "id": "1e381dd4",
      "metadata": {
        "id": "1e381dd4"
      },
      "outputs": [],
      "source": [
        "model = SVC(kernel='rbf')  # rbf(Radial Basis Function) \n",
        "model.fit(X_train, y_train)"
      ]
    },
    {
      "cell_type": "code",
      "execution_count": 48,
      "id": "877c3941",
      "metadata": {
        "colab": {
          "base_uri": "https://localhost:8080/"
        },
        "id": "877c3941",
        "outputId": "fb0a01df-8535-4fde-b391-4f02e934122e"
      },
      "outputs": [
        {
          "output_type": "stream",
          "name": "stdout",
          "text": [
            "학습 데이터 점수: 0.7605633802816901\n",
            "평가 데이터 점수: 0.5555555555555556\n"
          ]
        }
      ],
      "source": [
        "print('학습 데이터 점수: {}'.format(model.score(X_train, y_train)))\n",
        "print('평가 데이터 점수: {}'.format(model.score(X_test, y_test)))"
      ]
    },
    {
      "cell_type": "markdown",
      "id": "d8520ec7",
      "metadata": {
        "id": "d8520ec7"
      },
      "source": [
        "# 나이브 베이즈 분류기\n",
        "\n",
        "사이킷런의 naive_bayes 서브패키지에서는 다음과 같은 세가지 나이브베이즈 모형 클래스를 제공한다.\n",
        "\n",
        "* GaussianNB: 정규분포 나이브베이즈\n",
        "* BernoulliNB: 베르누이분포 나이브베이즈\n",
        "* MultinomialNB: 다항분포 나이브베이즈"
      ]
    },
    {
      "cell_type": "markdown",
      "id": "84bc247b",
      "metadata": {
        "id": "84bc247b"
      },
      "source": [
        "## 가우시안 나이브 베이즈\n",
        "\n",
        "### 데이터 - iris"
      ]
    },
    {
      "cell_type": "code",
      "execution_count": 55,
      "id": "4a579063",
      "metadata": {
        "id": "4a579063"
      },
      "outputs": [],
      "source": [
        "iris = load_iris()\n",
        "X = iris.data\n",
        "y = iris.target\n",
        "model = GaussianNB().fit(X, y)"
      ]
    },
    {
      "cell_type": "code",
      "source": [
        "iris = load_wine()\n",
        "iris_df = pd.DataFrame(data=iris.data, columns=iris.feature_names)\n",
        "iris_df['target'] = iris.target\n",
        "iris_df"
      ],
      "metadata": {
        "id": "aUyypXimFbgO"
      },
      "id": "aUyypXimFbgO",
      "execution_count": null,
      "outputs": []
    },
    {
      "cell_type": "code",
      "execution_count": 56,
      "id": "a2523253",
      "metadata": {
        "colab": {
          "base_uri": "https://localhost:8080/"
        },
        "id": "a2523253",
        "outputId": "2cc91e6d-7fff-46b9-c399-393bf83f6663"
      },
      "outputs": [
        {
          "output_type": "stream",
          "name": "stdout",
          "text": [
            "분류 결과표 : \n",
            " [[50  0  0]\n",
            " [ 0 47  3]\n",
            " [ 0  3 47]]\n",
            "분류 보고서 : \n",
            "               precision    recall  f1-score   support\n",
            "\n",
            "           0       1.00      1.00      1.00        50\n",
            "           1       0.94      0.94      0.94        50\n",
            "           2       0.94      0.94      0.94        50\n",
            "\n",
            "    accuracy                           0.96       150\n",
            "   macro avg       0.96      0.96      0.96       150\n",
            "weighted avg       0.96      0.96      0.96       150\n",
            "\n"
          ]
        }
      ],
      "source": [
        "from sklearn.metrics import confusion_matrix, classification_report\n",
        "y_pred = model.predict(X)\n",
        "print('분류 결과표 : \\n', confusion_matrix(y, y_pred))\n",
        "print('분류 보고서 : \\n', classification_report(y, y_pred))"
      ]
    },
    {
      "cell_type": "markdown",
      "id": "4dad3e37",
      "metadata": {
        "id": "4dad3e37"
      },
      "source": [
        "## 다항 나이브 베이즈\n",
        "\n",
        "### 데이터 - 20 Newsgroup"
      ]
    },
    {
      "cell_type": "code",
      "execution_count": 57,
      "id": "52fda1c5",
      "metadata": {
        "id": "52fda1c5"
      },
      "outputs": [],
      "source": [
        "news = fetch_20newsgroups(subset='all')"
      ]
    },
    {
      "cell_type": "code",
      "execution_count": null,
      "id": "5922af08",
      "metadata": {
        "scrolled": false,
        "id": "5922af08"
      },
      "outputs": [],
      "source": [
        "news.data   # 텍스트 데이터이기 때문에 벡터 변환 필요"
      ]
    },
    {
      "cell_type": "markdown",
      "id": "4cb3851d",
      "metadata": {
        "id": "4cb3851d"
      },
      "source": [
        "### 20 Newsgroup 데이터\n",
        "\n",
        "* 뉴스 기사가 어느 그룹에 속하는지 분류\n",
        "* 뉴스 기사는 텍스트 데이터이기 때문에 벡터 변환 필요\n",
        "\n",
        "#### 벡터화\n",
        "* 텍스트 데이터는 기계학습 모델에 입력 할 수 없음\n",
        "* 벡터화는 텍스트 데이터를 실수 벡터로 변환해 기계학습 모델에 입력 할 수 있도록 하는 전처리 과정\n",
        "* Scikit-learn에서는 Count, Hashing, Tf-idf 세가지 방법을 지원\n",
        "  - CountVectorizer\n",
        "    + 문서에 나온 단어의 수를 세서 벡터 생성\n",
        "    + 결과는 희소 행렬\n",
        "\n",
        "  - HashingVectorizer\n",
        "    + 각 단어를 해쉬 값으로 표현\n",
        "    + 미리 정해진 크기의 벡터로 표현\n",
        "\n",
        "  - TfidfVectorizer\n",
        "    + 문서에 나온 단어 빈도(term frequency)와 역문서 빈도(inverse document frequency)를 곱해서 구함\n",
        "    + 각 빈도는 일반적으로 로그 스케일링 후 사용"
      ]
    },
    {
      "cell_type": "code",
      "execution_count": 59,
      "id": "119687bf",
      "metadata": {
        "id": "119687bf"
      },
      "outputs": [],
      "source": [
        "model1 = Pipeline([\n",
        "('vect', CountVectorizer()),\n",
        "('model', MultinomialNB()),\n",
        "])\n",
        "model2 = Pipeline([\n",
        "('vect', TfidfVectorizer()),\n",
        "('model', MultinomialNB()),\n",
        "])\n",
        "model3 = Pipeline([\n",
        "('vect', TfidfVectorizer(stop_words='english')),\n",
        "('model', MultinomialNB()),\n",
        "])"
      ]
    },
    {
      "cell_type": "code",
      "execution_count": 61,
      "id": "fab54e52",
      "metadata": {
        "colab": {
          "base_uri": "https://localhost:8080/"
        },
        "id": "fab54e52",
        "outputId": "44647792-c4bc-442a-a5b5-1a1ea4a18520"
      },
      "outputs": [
        {
          "output_type": "stream",
          "name": "stdout",
          "text": [
            "Model1: Mean score: 0.855\n",
            "Model2: Mean score: 0.856\n",
            "Model3: Mean score: 0.883\n"
          ]
        }
      ],
      "source": [
        "from sklearn.model_selection import cross_val_score\n",
        "X = news.data\n",
        "y = news.target\n",
        "for i, model in enumerate([model1, model2, model3]):\n",
        "  scores = cross_val_score(model, X, y, cv=5)\n",
        "  print(\"Model{0:d}: Mean score: {1:.3f}\".format(i + 1, np.mean(scores)))"
      ]
    }
  ],
  "metadata": {
    "kernelspec": {
      "display_name": "Python 3 (ipykernel)",
      "language": "python",
      "name": "python3"
    },
    "language_info": {
      "codemirror_mode": {
        "name": "ipython",
        "version": 3
      },
      "file_extension": ".py",
      "mimetype": "text/x-python",
      "name": "python",
      "nbconvert_exporter": "python",
      "pygments_lexer": "ipython3",
      "version": "3.9.7"
    },
    "colab": {
      "name": "10. Classification.ipynb",
      "provenance": [],
      "collapsed_sections": [],
      "include_colab_link": true
    }
  },
  "nbformat": 4,
  "nbformat_minor": 5
}