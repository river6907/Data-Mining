{
  "nbformat": 4,
  "nbformat_minor": 0,
  "metadata": {
    "colab": {
      "name": "Clustering.ipynb",
      "provenance": [],
      "toc_visible": true,
      "authorship_tag": "ABX9TyPM+ECaGjkP0J3OU/d+8YwD",
      "include_colab_link": true
    },
    "kernelspec": {
      "name": "python3",
      "display_name": "Python 3"
    },
    "language_info": {
      "name": "python"
    }
  },
  "cells": [
    {
      "cell_type": "markdown",
      "metadata": {
        "id": "view-in-github",
        "colab_type": "text"
      },
      "source": [
        "<a href=\"https://colab.research.google.com/github/river6907/Data-Mining/blob/main/Clustering.ipynb\" target=\"_parent\"><img src=\"https://colab.research.google.com/assets/colab-badge.svg\" alt=\"Open In Colab\"/></a>"
      ]
    },
    {
      "cell_type": "code",
      "execution_count": null,
      "metadata": {
        "id": "2Q3c7tEX2lfY"
      },
      "outputs": [],
      "source": [
        "import numpy as np\n",
        "import pandas as pd\n",
        "import math\n",
        "import matplotlib.pyplot as plt\n",
        "from sklearn import cluster\n",
        "from sklearn import datasets\n",
        "from sklearn.cluster import KMeans\n",
        "from sklearn.preprocessing import StandardScaler\n",
        "from sklearn import metrics\n",
        "from sklearn.metrics import accuracy_score\n",
        "from sklearn.metrics import silhouette_samples, silhouette_score"
      ]
    },
    {
      "cell_type": "markdown",
      "source": [
        "# K-means\n",
        "\n"
      ],
      "metadata": {
        "id": "2HaZOQ4w2_CC"
      }
    },
    {
      "cell_type": "markdown",
      "source": [
        "## 붓꽃 데이터 군집화"
      ],
      "metadata": {
        "id": "yidIVO-O3K-L"
      }
    },
    {
      "cell_type": "code",
      "source": [
        "from sklearn.datasets import load_iris\n",
        "iris = load_iris()"
      ],
      "metadata": {
        "id": "Ya-AZJa929bj"
      },
      "execution_count": null,
      "outputs": []
    },
    {
      "cell_type": "code",
      "source": [
        "model = cluster.KMeans(n_clusters=3)\n",
        "model.fit(iris.data)\n",
        "labels = model.predict(iris.data)\n",
        "print('결과 labels : ', labels)"
      ],
      "metadata": {
        "colab": {
          "base_uri": "https://localhost:8080/"
        },
        "id": "s8MpIrnS3Zjn",
        "outputId": "457a2957-6a16-4d32-f713-1fbd6f11b475"
      },
      "execution_count": null,
      "outputs": [
        {
          "output_type": "stream",
          "name": "stdout",
          "text": [
            "결과 labels :  [1 1 1 1 1 1 1 1 1 1 1 1 1 1 1 1 1 1 1 1 1 1 1 1 1 1 1 1 1 1 1 1 1 1 1 1 1\n",
            " 1 1 1 1 1 1 1 1 1 1 1 1 1 0 0 2 0 0 0 0 0 0 0 0 0 0 0 0 0 0 0 0 0 0 0 0 0\n",
            " 0 0 0 2 0 0 0 0 0 0 0 0 0 0 0 0 0 0 0 0 0 0 0 0 0 0 2 0 2 2 2 2 0 2 2 2 2\n",
            " 2 2 0 0 2 2 2 2 0 2 0 2 0 2 2 0 0 2 2 2 2 2 0 2 2 2 2 0 2 2 2 0 2 2 2 0 2\n",
            " 2 0]\n"
          ]
        }
      ]
    },
    {
      "cell_type": "code",
      "source": [
        "a_counts = np.bincount(labels[:50])\n",
        "b_counts = np.bincount(labels[50:100])\n",
        "c_counts = np.bincount(labels[100:])\n",
        "\n",
        "print(a_counts)\n",
        "print(b_counts)\n",
        "print(c_counts)"
      ],
      "metadata": {
        "colab": {
          "base_uri": "https://localhost:8080/"
        },
        "id": "WMZtSnfz36Qf",
        "outputId": "16e009c4-1b5d-481c-c2a9-95946e8a0907"
      },
      "execution_count": null,
      "outputs": [
        {
          "output_type": "stream",
          "name": "stdout",
          "text": [
            "[ 0 50]\n",
            "[48  0  2]\n",
            "[14  0 36]\n"
          ]
        }
      ]
    },
    {
      "cell_type": "code",
      "source": [
        "colors = np.array(['red','green','blue'])\n",
        "plt.scatter(iris.data[:, 0], iris.data[:, 1], color = colors[labels]);"
      ],
      "metadata": {
        "colab": {
          "base_uri": "https://localhost:8080/",
          "height": 268
        },
        "id": "CrCNmalq4RfP",
        "outputId": "5ade6ff5-093d-46e7-80cf-59920a223656"
      },
      "execution_count": null,
      "outputs": [
        {
          "output_type": "display_data",
          "data": {
            "text/plain": [
              "<Figure size 432x288 with 1 Axes>"
            ],
            "image/png": "[encoded data removed]"
          },
          "metadata": {
            "needs_background": "light"
          }
        }
      ]
    },
    {
      "cell_type": "markdown",
      "source": [
        "# UCL online retail 데이터 군집화"
      ],
      "metadata": {
        "id": "iU1GPqRW4vy2"
      }
    },
    {
      "cell_type": "markdown",
      "source": [
        "## 데이터 준비"
      ],
      "metadata": {
        "id": "io4mKwuW4z_N"
      }
    },
    {
      "cell_type": "code",
      "source": [
        "from google.colab import files\n",
        "files.upload()"
      ],
      "metadata": {
        "colab": {
          "resources": {
            "http://localhost:8080/nbextensions/google.colab/files.js": {
              "data": "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",
              "ok": true,
              "headers": [
                [
                  "content-type",
                  "application/javascript"
                ]
              ],
              "status": 200,
              "status_text": ""
            }
          },
          "base_uri": "https://localhost:8080/",
          "height": 77
        },
        "id": "E4CbkZdz6BHh",
        "outputId": "c56f944a-84b0-4baa-ca7b-c44b210c0c7f"
      },
      "execution_count": null,
      "outputs": [
        {
          "output_type": "display_data",
          "data": {
            "text/plain": [
              "<IPython.core.display.HTML object>"
            ],
            "text/html": [
              "\n",
              "     <input type=\"file\" id=\"files-dd37618b-0199-456e-91ee-fc5b854565c9\" name=\"files[]\" multiple disabled\n",
              "        style=\"border:none\" />\n",
              "     <output id=\"result-dd37618b-0199-456e-91ee-fc5b854565c9\">\n",
              "      Upload widget is only available when the cell has been executed in the\n",
              "      current browser session. Please rerun this cell to enable.\n",
              "      </output>\n",
              "      <script src=\"/nbextensions/google.colab/files.js\"></script> "
            ]
          },
          "metadata": {}
        },
        {
          "output_type": "stream",
          "name": "stdout",
          "text": [
            "Saving Online Retail.xlsx to Online Retail (2).xlsx\n"
          ]
        }
      ]
    },
    {
      "cell_type": "code",
      "source": [
        "retail_df = pd.read_excel('Online Retail.xlsx')\n",
        "retail_df.head()"
      ],
      "metadata": {
        "id": "OAW-wl7x4zT5"
      },
      "execution_count": null,
      "outputs": []
    },
    {
      "cell_type": "code",
      "source": [
        "retail_df.info()"
      ],
      "metadata": {
        "id": "FdVH3fsK4vVm"
      },
      "execution_count": null,
      "outputs": []
    },
    {
      "cell_type": "markdown",
      "source": [
        "## 데이터 정제\n",
        "\n",
        "* CustomerID 형변환(실수 -> 정수)\n",
        "* CustomerID 결측치 제거\n",
        "* 중복 레코드 제거\n",
        "* Quantity, UnitPrice가 음수인 것 제외\n",
        "\n"
      ],
      "metadata": {
        "id": "84Gqt0FL8aEW"
      }
    },
    {
      "cell_type": "code",
      "source": [
        "#데이터 정제해보자"
      ],
      "metadata": {
        "id": "uX0hPvyn93RY"
      },
      "execution_count": null,
      "outputs": []
    },
    {
      "cell_type": "code",
      "source": [
        "retail_df.isnull().sum()"
      ],
      "metadata": {
        "id": "4o2tz-xt8UUw"
      },
      "execution_count": null,
      "outputs": []
    },
    {
      "cell_type": "code",
      "source": [
        "retail_df.query('Quantity < 0 or UnitPrice < 0') #Quantity, UnitPrice가 음수인 것 제외"
      ],
      "metadata": {
        "id": "5PtBNGxQ9feQ"
      },
      "execution_count": null,
      "outputs": []
    },
    {
      "cell_type": "code",
      "source": [
        "retail_df = retail_df.dropna() \n",
        "retail_df['CustomerID'] = retail_df['CustomerID'].astype(int) #정수형으로 전환\n",
        "retail_df = retail_df.query('Quantity > 0 and UnitPrice > 0')\n",
        "retail_df.drop_duplicates(inplace=True) #중복 제거 중복제거한 결과를 반영할것인지 # 중복제거한 다음에 df 만듬\n",
        "retail_df.info()"
      ],
      "metadata": {
        "id": "JDafEGvm-H7Y"
      },
      "execution_count": null,
      "outputs": []
    },
    {
      "cell_type": "code",
      "source": [
        "retail_df.shape"
      ],
      "metadata": {
        "id": "AtOpYnzF-lCp"
      },
      "execution_count": null,
      "outputs": []
    },
    {
      "cell_type": "code",
      "source": [
        "retail_df['SaleAmount'] = retail_df.UnitPrice * retail_df.Quantity\n",
        "retail_df.head()"
      ],
      "metadata": {
        "id": "2dEQ9XDM-xDL"
      },
      "execution_count": null,
      "outputs": []
    },
    {
      "cell_type": "code",
      "source": [
        "aggs = {'InvoiceNo':'count', 'SaleAmount':'sum', 'InvoiceDate': 'max'}\n",
        "\n",
        "customer_df = retail_df.groupby('CustomerID').agg(aggs) # 집계함수를 적용 #쵝근 날짜 적용\n",
        "customer_df = customer_df.reset_index() \n",
        "customer_df.head()"
      ],
      "metadata": {
        "id": "CSWmSjv6_FrC"
      },
      "execution_count": null,
      "outputs": []
    },
    {
      "cell_type": "code",
      "source": [
        "customer_df = customer_df.rename(columns={'InvoiceNo':'Freq', 'InvoiceDate':'ElapsedDays'})\n",
        "customer_df.head()"
      ],
      "metadata": {
        "id": "HWL_PACfARGm"
      },
      "execution_count": null,
      "outputs": []
    },
    {
      "cell_type": "code",
      "source": [
        "import datetime\n",
        "customer_df['ElapsedDays'] = datetime.datetime(2011, 12, 10) - customer_df['ElapsedDays'] #기준일로 며칠전인지 나타냄 즉 경과일\n",
        "customer_df.head()"
      ],
      "metadata": {
        "id": "6B64DE5eAqkV"
      },
      "execution_count": null,
      "outputs": []
    },
    {
      "cell_type": "code",
      "source": [
        "customer_df['ElapsedDays'] = customer_df['ElapsedDays'].apply(lambda x: x.days + 1) #람다 적용해서 결과를 날짜로 적용\n",
        "customer_df.head()"
      ],
      "metadata": {
        "id": "5bExdXAcArfV"
      },
      "execution_count": null,
      "outputs": []
    },
    {
      "cell_type": "markdown",
      "source": [
        "## 데이터 전처리"
      ],
      "metadata": {
        "id": "N2HvCQMcBY3D"
      }
    },
    {
      "cell_type": "code",
      "source": [
        "# log transform 클러스터링 전 전처리룰 해본다 -> 표준화 0인 경우에도 로그값 취하기 위해 log1p해준다.\n",
        "customer_df['Freq_log'] = np.log1p(customer_df['Freq']) #값이 0일때1로 값을 처리해 값이 0 나오게 한다.\n",
        "customer_df['SaleAmount_log'] = np.log1p(customer_df['SaleAmount'])\n",
        "customer_df['ElapsedDays_log'] = np.log1p(customer_df['ElapsedDays'])\n",
        "customer_df.head()"
      ],
      "metadata": {
        "id": "plr_xF-hBXhX"
      },
      "execution_count": null,
      "outputs": []
    },
    {
      "cell_type": "code",
      "source": [
        "# scaling\n",
        "X = customer_df[['Freq_log', 'SaleAmount_log', 'ElapsedDays_log']].values\n",
        "scaled_X = StandardScaler().fit_transform(X)"
      ],
      "metadata": {
        "id": "_1yniNWFCRGg"
      },
      "execution_count": null,
      "outputs": []
    },
    {
      "cell_type": "markdown",
      "source": [
        "## 군집화"
      ],
      "metadata": {
        "id": "WyYseYbXC3QK"
      }
    },
    {
      "cell_type": "code",
      "source": [
        "# elbow 방법으로 k 구하기  # 1개부터 10개까지 응집도를 구해보니 \n",
        "distortions = []\n",
        "for k in range(1, 11):\n",
        "  kmeans_k = KMeans( n_clusters = k, random_state = 0 )\n",
        "  kmeans_k.fit(scaled_X)\n",
        "  distortions.append(kmeans_k.inertia_) #INERTIA 속성값사용\n",
        "\n",
        "plt.plot(range(1, 11), distortions, marker='o') #왜곡값 계산 \n",
        "plt.xlabel('Number of clusters')\n",
        "plt.ylabel('Distortion')\n",
        "plt.show();"
      ],
      "metadata": {
        "id": "WCcknfMGCcOR"
      },
      "execution_count": null,
      "outputs": []
    },
    {
      "cell_type": "code",
      "source": [
        "kmeans = KMeans(n_clusters=3, random_state=0)\n",
        "y= kmeans.fit_predict(scaled_X)"
      ],
      "metadata": {
        "id": "hpL866lMDVmz"
      },
      "execution_count": null,
      "outputs": []
    },
    {
      "cell_type": "code",
      "source": [
        "customer_df['ClusterLabel']=y #예측결과 labeldmf 저기에 저장\n",
        "customer_df.head()"
      ],
      "metadata": {
        "id": "RN48NHBdDi7l"
      },
      "execution_count": null,
      "outputs": []
    },
    {
      "cell_type": "markdown",
      "source": [
        "## 결과 시각화 및 분석\n",
        " * 실루엣 분석\n",
        "  * 클러스터 내 데이터의 응집도를 측정\n",
        "  * a(i) : 클러스터 응집력\n",
        "    * 데이터 i가 해당 클러스터 내의 데이터와 얼마나 가까운지 알 수 있다.\n",
        "  * b(i) : 클러스터 분리도\n",
        "    * 가장 가까운 다른 클러스터 내의 데이터와 얼마나 떨어져 있는지 알 수 있다.\n",
        "  * -1 ~ 1 사이의 값을 가지며 1에 가까울수록 좋은 군집화 \n",
        "\n",
        "s(x) = b(i) − a(i) / max(a(i), b(i))"
      ],
      "metadata": {
        "id": "4hyIYcWeEG9B"
      }
    },
    {
      "cell_type": "code",
      "source": [
        "from matplotlib import cm\n",
        "def clusterScatter(n_cluster, X_features):\n",
        "  c_colors = []\n",
        "  kmeans = KMeans(n_clusters=n_cluster, random_state=0)\n",
        "  Y_labels = kmeans.fit_predict(X_features)\n",
        "\n",
        "  for i in range(n_cluster):\n",
        "      c_color = cm.jet(float(i) / n_cluster) #cm=colormap \n",
        "      c_colors.append(c_color)\n",
        "      plt.scatter(X_features[Y_labels == i, 0], X_features[Y_labels == i, 1],\n",
        "                 marker='o', color=c_color, edgecolor='k', s=50, label='cluster ' + str(i))\n",
        " # center값 찾아서 찍어줄꺼고 (^ 삼각형으로) 찍히고\n",
        "  for i in range(n_cluster):\n",
        "      plt.scatter(kmeans.cluster_centers_[i, 0], kmeans.cluster_centers_[i, 1],\n",
        "                  marker='^', color=c_colors[i], edgecolor='w', s=200)\n",
        "  plt.legend()\n",
        "  plt.grid()\n",
        "  plt.tight_layout()\n",
        "  plt.show()"
      ],
      "metadata": {
        "id": "kavXFeTSD_YN"
      },
      "execution_count": null,
      "outputs": []
    },
    {
      "cell_type": "code",
      "source": [
        "def silhouetteViz(n_cluster, X_features):\n",
        "  kmeans = KMeans(n_clusters=n_cluster, random_state=0)\n",
        "  Y_labels = kmeans.fit_predict(X_features)\n",
        "  silhouette_values = silhouette_samples(X_features, Y_labels, metric='euclidean')\n",
        "  silhouette_avg = np.mean(silhouette_values)\n",
        "  print('k={0:d} 일 때 Silhouette Score : {1: .3f}'.format(n_cluster, silhouette_avg))"
      ],
      "metadata": {
        "id": "l54EJ3pHF9lg"
      },
      "execution_count": null,
      "outputs": []
    },
    {
      "cell_type": "code",
      "source": [
        "clusterScatter(3, scaled_X)"
      ],
      "metadata": {
        "id": "-aib_noqGiC5"
      },
      "execution_count": null,
      "outputs": []
    },
    {
      "cell_type": "code",
      "source": [
        "clusterScatter(4, scaled_X)"
      ],
      "metadata": {
        "id": "hOGN_HNVGjbp"
      },
      "execution_count": null,
      "outputs": []
    },
    {
      "cell_type": "code",
      "source": [
        "clusterScatter(5, scaled_X)"
      ],
      "metadata": {
        "id": "iRVdoEe9GlKy"
      },
      "execution_count": null,
      "outputs": []
    },
    {
      "cell_type": "code",
      "source": [
        "clusterScatter(6, scaled_X)"
      ],
      "metadata": {
        "id": "iGrluFd5Gm_h"
      },
      "execution_count": null,
      "outputs": []
    },
    {
      "cell_type": "markdown",
      "source": [
        "## 군집 분석의 활용 예\n"
      ],
      "metadata": {
        "id": "HLQcJIOBG5QC"
      }
    },
    {
      "cell_type": "code",
      "source": [
        "kmeans = KMeans(n_clusters=4, random_state=0)\n",
        "y_labels = kmeans.fit_predict(scaled_X)\n",
        "customer_df['Clusterlabel'] = y_labels\n",
        "customer_df.head()"
      ],
      "metadata": {
        "id": "uK7UvfugGz3S"
      },
      "execution_count": null,
      "outputs": []
    },
    {
      "cell_type": "code",
      "source": [
        "customer_df.groupby('Clusterlabel')['CustomerID'].count()"
      ],
      "metadata": {
        "id": "TkoUXvQqHGji"
      },
      "execution_count": null,
      "outputs": []
    },
    {
      "cell_type": "code",
      "source": [
        "# 총 구매 빈도, 총 구매 금액, 마지막 구매 이후 경과일 추출\n",
        "cust_cluster_df = customer_df.drop(['Freq_log', 'SaleAmount_log', 'ElapsedDays_log', 'ClusterLabel'], axis=1, inplace=False)\n",
        "cust_cluster_df.head()"
      ],
      "metadata": {
        "id": "5gdfFkitHHXj"
      },
      "execution_count": null,
      "outputs": []
    },
    {
      "cell_type": "code",
      "source": [
        "# 구매 1회당 평균 구매 금액 계산\n",
        "cust_cluster_df['SaleAmountAvg'] = cust_cluster_df.SaleAmount / cust_cluster_df.Freq\n",
        "cust_cluster_df.drop(['CustomerID'], axis=1, inplace=False).groupby('Clusterlabel').mean()"
      ],
      "metadata": {
        "id": "Kf84Fh02Hlz8"
      },
      "execution_count": null,
      "outputs": []
    },
    {
      "cell_type": "markdown",
      "source": [
        "# K-means vs. DBSCAN\n"
      ],
      "metadata": {
        "id": "_bAIWn3CIIEm"
      }
    },
    {
      "cell_type": "markdown",
      "source": [
        "## 데이터 생성\n"
      ],
      "metadata": {
        "id": "2lq-4gBIIKr8"
      }
    },
    {
      "cell_type": "code",
      "source": [
        "np.random.seed(0)\n",
        "n_samples = 1500\n",
        "random_state = 0\n",
        "noise = 0.05"
      ],
      "metadata": {
        "id": "-RIYBlVtILtb"
      },
      "execution_count": null,
      "outputs": []
    },
    {
      "cell_type": "code",
      "source": [
        "circles = datasets.make_circles(n_samples=n_samples, factor=0.5, noise=noise, random_state=random_state)\n",
        "moons = datasets.make_moons(n_samples=n_samples, noise=noise, random_state=random_state)\n",
        "blobs = datasets.make_blobs(n_samples=n_samples, random_state=random_state)\n",
        "no_structures = np.random.rand(n_samples, 2), None"
      ],
      "metadata": {
        "id": "rC9qzcqYINmt"
      },
      "execution_count": null,
      "outputs": []
    },
    {
      "cell_type": "code",
      "source": [
        "def fit_predict_plot(model, dataset, position, title):\n",
        "  X, y = dataset\n",
        "  model.fit(X)\n",
        "\n",
        "  if hasattr(model, 'labels_'):\n",
        "    labels = model.labels_.astype(np.int)\n",
        "  else:\n",
        "    labels = model.predict(X)\n",
        "\n",
        "  colors = np.array(['orange', 'yellowgreen', 'royalblue', 'darkred', 'purple', 'olivegreen', 'lightblue'])\n",
        "  ax = plt.subplot(position)\n",
        "  ax.set_title(title)\n",
        "  ax.scatter(X[:, 0], X[:, 1], color=colors[labels])  "
      ],
      "metadata": {
        "id": "89agfHB2IPkU"
      },
      "execution_count": null,
      "outputs": []
    },
    {
      "cell_type": "markdown",
      "source": [
        "## k-means"
      ],
      "metadata": {
        "id": "lSFCspusIaLl"
      }
    },
    {
      "cell_type": "code",
      "source": [
        "fig = plt.figure(figsize=(12, 12))\n",
        "fig.suptitle('k-means (k=2)')\n",
        "fit_predict_plot(cluster.KMeans(n_clusters=2, random_state=random_state), circles, 221, 'Circles')\n",
        "fit_predict_plot(cluster.KMeans(n_clusters=2, random_state=random_state), moons, 222, 'moons')\n",
        "fit_predict_plot(cluster.KMeans(n_clusters=2, random_state=random_state), blobs, 223, 'blobs')\n",
        "fit_predict_plot(cluster.KMeans(n_clusters=2, random_state=random_state), no_structures, 224, 'no_structures')"
      ],
      "metadata": {
        "id": "GVKTe9xTIciD"
      },
      "execution_count": null,
      "outputs": []
    },
    {
      "cell_type": "code",
      "source": [
        "fig = plt.figure(figsize=(12, 12))\n",
        "fig.suptitle('k-means (k=3)')\n",
        "fit_predict_plot(cluster.KMeans(n_clusters=3, random_state=random_state), circles, 221, 'Circles')\n",
        "fit_predict_plot(cluster.KMeans(n_clusters=3, random_state=random_state), moons, 222, 'moons')\n",
        "fit_predict_plot(cluster.KMeans(n_clusters=3, random_state=random_state), blobs, 223, 'blobs')\n",
        "fit_predict_plot(cluster.KMeans(n_clusters=3, random_state=random_state), no_structures, 224, 'no_structures')"
      ],
      "metadata": {
        "id": "StwksaxPIsLP"
      },
      "execution_count": null,
      "outputs": []
    },
    {
      "cell_type": "code",
      "source": [
        "fig = plt.figure(figsize=(12, 12))\n",
        "fig.suptitle('k-means (k=4)')\n",
        "fit_predict_plot(cluster.KMeans(n_clusters=4, random_state=random_state), circles, 221, 'Circles')\n",
        "fit_predict_plot(cluster.KMeans(n_clusters=4, random_state=random_state), moons, 222, 'moons')\n",
        "fit_predict_plot(cluster.KMeans(n_clusters=4, random_state=random_state), blobs, 223, 'blobs')\n",
        "fit_predict_plot(cluster.KMeans(n_clusters=4, random_state=random_state), no_structures, 224, 'no_structures')"
      ],
      "metadata": {
        "id": "sAlp1SuuIz8G"
      },
      "execution_count": null,
      "outputs": []
    },
    {
      "cell_type": "markdown",
      "source": [
        "## DBSCAN"
      ],
      "metadata": {
        "id": "BGwJgQAZI6Iz"
      }
    },
    {
      "cell_type": "code",
      "source": [
        "fig = plt.figure(figsize=(12, 12))\n",
        "fig.suptitle('DBSCAN')\n",
        "fit_predict_plot(cluster.DBSCAN(eps=.3), circles, 221, 'Circles')\n",
        "fit_predict_plot(cluster.DBSCAN(eps=.3), moons, 222, 'moons')\n",
        "fit_predict_plot(cluster.DBSCAN(eps=.3), blobs, 223, 'blobs')\n",
        "fit_predict_plot(cluster.DBSCAN(eps=.3), no_structures, 224, 'no_structures')"
      ],
      "metadata": {
        "id": "F8iMleANI8ze"
      },
      "execution_count": null,
      "outputs": []
    },
    {
      "cell_type": "markdown",
      "source": [
        "# DBSCAN -> iris data\n"
      ],
      "metadata": {
        "id": "iBVl7OQ8JHwu"
      }
    },
    {
      "cell_type": "code",
      "source": [
        "from sklearn.cluster import DBSCAN\n",
        "iris = load_iris(as_frame=True)\n",
        "iris.frame.head()"
      ],
      "metadata": {
        "id": "6av4PNrzJEBA"
      },
      "execution_count": null,
      "outputs": []
    },
    {
      "cell_type": "code",
      "source": [
        "data = pd.DataFrame(iris.data)\n",
        "target = pd.DataFrame(iris.target)\n",
        "data.columns = ['Sepal_L', 'Sepal_W', 'Petal_L', 'Petal_W']\n",
        "target.columns = ['target']"
      ],
      "metadata": {
        "id": "BuqGJNiGJPCO"
      },
      "execution_count": null,
      "outputs": []
    },
    {
      "cell_type": "code",
      "source": [
        "db = DBSCAN(eps=0.6, min_samples=8).fit(data)\n",
        "labels = db.labels_"
      ],
      "metadata": {
        "id": "-DshaYuRJWwa"
      },
      "execution_count": null,
      "outputs": []
    },
    {
      "cell_type": "code",
      "source": [
        "labels # -1 값은 노이즈를 의미한다."
      ],
      "metadata": {
        "id": "XcLuya29JZTI"
      },
      "execution_count": null,
      "outputs": []
    },
    {
      "cell_type": "code",
      "source": [
        "n_clusters = len(set(labels)) - (1 if -1 in labels else 0) # -1이면 그 값을 뺀다 아님 그냥 둔다\n",
        "n_noise = list(labels).count(-1)\n",
        "print('Estimated number of clusters: %d' % n_clusters)\n",
        "print('Estimated number of noise points: %d' % n_noise)\n",
        "print('Silhouette Coefficient: %.3f' % metrics.silhouette_score(data, labels))"
      ],
      "metadata": {
        "id": "Fo76FMx4Ji2v"
      },
      "execution_count": null,
      "outputs": []
    },
    {
      "cell_type": "markdown",
      "source": [
        "적절한 입실론 값과 최소 샘플 수를 찾는다"
      ],
      "metadata": {
        "id": "hkuwQLSfJz6g"
      }
    },
    {
      "cell_type": "code",
      "source": [
        "db = DBSCAN(eps=0.8, min_samples=8).fit(data)\n",
        "labels = db.labels_\n",
        "n_clusters = len(set(labels)) - (1 if -1 in labels else 0)\n",
        "n_noise = list(labels).count(-1)\n",
        "print('Estimated number of clusters: %d' % n_clusters)\n",
        "print('Estimated number of noise points: %d' % n_noise)\n",
        "print('Silhouette Coefficient: %.3f' % metrics.silhouette_score(data, labels))"
      ],
      "metadata": {
        "id": "2x2JfnuDJ4zR"
      },
      "execution_count": null,
      "outputs": []
    },
    {
      "cell_type": "code",
      "source": [
        "db = DBSCAN(eps=0.6, min_samples=16).fit(data)\n",
        "labels = db.labels_\n",
        "n_clusters = len(set(labels)) - (1 if -1 in labels else 0)\n",
        "n_noise = list(labels).count(-1)\n",
        "print('Estimated number of clusters: %d' % n_clusters)\n",
        "print('Estimated number of noise points: %d' % n_noise)\n",
        "print('Silhouette Coefficient: %.3f' % metrics.silhouette_score(data, labels))"
      ],
      "metadata": {
        "id": "ohvpmSQ_KGVS"
      },
      "execution_count": null,
      "outputs": []
    },
    {
      "cell_type": "markdown",
      "source": [
        "## Hierarachical Clustering"
      ],
      "metadata": {
        "id": "vFOsFQ1bKJKF"
      }
    },
    {
      "cell_type": "markdown",
      "source": [
        " https://todayisbetterthanyesterday.tistory.com/59\n"
      ],
      "metadata": {
        "id": "7VxR3f3aKmfK"
      }
    },
    {
      "cell_type": "code",
      "source": [
        "from scipy.cluster.hierarchy import linkage, dendrogram, fcluster \n",
        "# 적절한 단계로 cut할때 쓰는 fcluster #메소드 뭔가 중요해보임"
      ],
      "metadata": {
        "id": "N_ch6apvKMmA"
      },
      "execution_count": null,
      "outputs": []
    },
    {
      "cell_type": "code",
      "source": [
        "iris.frame.head()"
      ],
      "metadata": {
        "id": "PmWxLRB8KzDK"
      },
      "execution_count": null,
      "outputs": []
    },
    {
      "cell_type": "code",
      "source": [
        "data = pd.DataFrame(iris.data)\n",
        "target = pd.DataFrame(iris.target)\n",
        "data.columns = ['Sepal_L', 'Sepal_W', 'Petal_L', 'Petal_W']\n",
        "target.columns = ['target']"
      ],
      "metadata": {
        "id": "Kf5pvl7cK3Ax"
      },
      "execution_count": null,
      "outputs": []
    },
    {
      "cell_type": "code",
      "source": [
        "mergings = linkage(data, method='complete')\n",
        "plt.figure(figsize=(40, 20))\n",
        "dendrogram(mergings,\n",
        "labels=target.values,\n",
        "leaf_rotation=90,\n",
        "leaf_font_size=20)\n",
        "plt.show();\n",
        "# 3수준으로 자르면 4개로 나뉨 "
      ],
      "metadata": {
        "id": "28F9pp4rLVYT"
      },
      "execution_count": null,
      "outputs": []
    },
    {
      "cell_type": "code",
      "source": [
        "predict = pd.DataFrame(fcluster(mergings, 3, criterion='distance')) #사용하는 클러스터는 merging\n",
        "predict.columns = ['predict']\n",
        "ct = pd.crosstab(predict['predict'], target['target'])\n",
        "print(ct)"
      ],
      "metadata": {
        "id": "PtvKP3AlLfTr"
      },
      "execution_count": null,
      "outputs": []
    },
    {
      "cell_type": "code",
      "source": [
        "predict = pd.DataFrame(fcluster(mergings, 4, criterion='distance'))\n",
        "predict.columns = ['predict']\n",
        "ct = pd.crosstab(predict['predict'], target['target'])\n",
        "print(ct)"
      ],
      "metadata": {
        "id": "rXFfMHf4Lil1"
      },
      "execution_count": null,
      "outputs": []
    }
  ]
}